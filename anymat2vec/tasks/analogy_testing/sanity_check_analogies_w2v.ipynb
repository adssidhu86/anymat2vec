{
 "cells": [
  {
   "cell_type": "code",
   "execution_count": 1,
   "metadata": {},
   "outputs": [
    {
     "name": "stdout",
     "output_type": "stream",
     "text": [
      "Sanity check: Length of words is equal to length of embeddings and embedding dim is correct?\n",
      "\tTrue\n",
      "Sanity check: Mapping is correct for word 'the''?\n",
      "\tTrue\n"
     ]
    }
   ],
   "source": [
    "import numpy as np\n",
    "from gensim.models import KeyedVectors, Word2Vec\n",
    "from mat2vec.processing import MaterialsTextProcessor\n",
    "\n",
    "from gensim.models.word2vec import Word2VecVocab\n",
    "text_processor = MaterialsTextProcessor()\n",
    "\n",
    "\n",
    "w2v = Word2Vec.load(\"/Users/ardunn/alex/lbl/projects/common_env/dev_codes/mat2vec/mat2vec/training/models/pretrained_embeddings\")\n",
    "# print(w2v.wv.most_similar(\"thermoelectric\"))\n",
    "\n",
    "embi = w2v.wv.vectors          # input embeddings in correct order\n",
    "embin = w2v.wv.vectors_norm    # input embeddings normalized, in correct order\n",
    "embo = w2v.trainables.syn1neg  # output embeddings in correct order\n",
    "i2w = w2v.wv.index2word        # words in correct order\n",
    "\n",
    "print(f\"Sanity check: Length of words is equal to length of embeddings and embedding dim is correct?\\n\\t{len(i2w) == embi.shape[0] and embi.shape[1] == 200}\")\n",
    "\n",
    "print(f\"Sanity check: Mapping is correct for word '{i2w[0]}''?\\n\\t{np.array_equal(embi[0], w2v.wv[i2w[0]])}\")\n"
   ]
  },
  {
   "cell_type": "code",
   "execution_count": 2,
   "metadata": {},
   "outputs": [],
   "source": [
    "\n",
    "# creating keyedvectors\n",
    "words = i2w\n",
    "vectors = embi\n",
    "wvkv = KeyedVectors(vectors.shape[1])\n",
    "wvkv.add(words, vectors)"
   ]
  },
  {
   "cell_type": "code",
   "execution_count": 3,
   "metadata": {},
   "outputs": [
    {
     "name": "stderr",
     "output_type": "stream",
     "text": [
      "35118it [14:04, 41.56it/s]\n"
     ]
    }
   ],
   "source": [
    "analogies_score, sections = wvkv.evaluate_word_analogies(\"analogies.txt\")"
   ]
  },
  {
   "cell_type": "code",
   "execution_count": 4,
   "metadata": {},
   "outputs": [
    {
     "data": {
      "text/plain": [
       "0.5808625336927223"
      ]
     },
     "execution_count": 4,
     "metadata": {},
     "output_type": "execute_result"
    }
   ],
   "source": [
    "analogies_score"
   ]
  },
  {
   "cell_type": "code",
   "execution_count": 7,
   "metadata": {},
   "outputs": [
    {
     "name": "stdout",
     "output_type": "stream",
     "text": [
      "chemical element names: 0.6464338312644645\n",
      "crystal symmetry (cubic, hexagonal, tetragonal, etc.): 0.347085201793722\n",
      "metals and their oxides (most common): 0.4876923076923077\n",
      "crystal structures (zincblende, wurtzite, rutile, rocksalt, etc.): 0.17275747508305647\n",
      "elemental crystal structures (bcc, fcc, hcp, dhcp): 0.4941569282136895\n",
      "magnetic properties: 0.40353697749196143\n",
      "units: 0.3274336283185841\n",
      "gram2-opposite: 0.4584615384615385\n",
      "gram3-comparative: 0.7523076923076923\n",
      "gram4-superlative: 0.5215384615384615\n",
      "gram5-present-participle: 0.4880952380952381\n",
      "gram7-past-tense: 0.41861042183622826\n",
      "gram8-plural: 0.9357864357864358\n",
      "gram9-plural-verbs: 0.6733870967741935\n",
      "Total accuracy: 0.5808625336927223\n"
     ]
    }
   ],
   "source": [
    "for section in sections:\n",
    "    n_correct = len(section['correct'])\n",
    "    n_incorrect = len(section['incorrect'])\n",
    "    n_total = n_correct + n_incorrect\n",
    "    print(f\"{section['section']}: {n_correct/n_total}\")"
   ]
  },
  {
   "cell_type": "code",
   "execution_count": null,
   "metadata": {},
   "outputs": [],
   "source": []
  }
 ],
 "metadata": {
  "kernelspec": {
   "display_name": "Python 3",
   "language": "python",
   "name": "python3"
  },
  "language_info": {
   "codemirror_mode": {
    "name": "ipython",
    "version": 3
   },
   "file_extension": ".py",
   "mimetype": "text/x-python",
   "name": "python",
   "nbconvert_exporter": "python",
   "pygments_lexer": "ipython3",
   "version": "3.7.3"
  }
 },
 "nbformat": 4,
 "nbformat_minor": 4
}
